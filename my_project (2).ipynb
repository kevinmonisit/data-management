{
 "cells": [
  {
   "cell_type": "code",
   "execution_count": null,
   "id": "15224c4a",
   "metadata": {},
   "outputs": [],
   "source": []
  },
  {
   "cell_type": "markdown",
   "id": "c1a08017",
   "metadata": {},
   "source": [
    "Before you turn this problem in, make sure everything runs as expected. First, **restart the kernel** (in the menubar, select Kernel $\\rightarrow$ Restart) and then **run all cells** (in the menubar, select Cell $\\rightarrow$ Run All).\n",
    "\n",
    "Make sure you fill in any place that says `YOUR CODE HERE` or \"YOUR ANSWER HERE\", as well as your name and collaborators below:"
   ]
  },
  {
   "cell_type": "code",
   "execution_count": null,
   "id": "ae6c8f6a",
   "metadata": {},
   "outputs": [],
   "source": []
  },
  {
   "cell_type": "code",
   "execution_count": null,
   "id": "f8756ad5",
   "metadata": {},
   "outputs": [],
   "source": [
    "\"\"\"\n",
    "1. add api to run the model\n",
    "\n",
    "\n",
    "2. advanced queries\n",
    "\"\"\"\n",
    "\n",
    "import pandas as pd\n",
    "import sqlite3\n",
    "\n",
    "file_path = \"diabetes.csv\"\n",
    "data = pd.read_csv(file_path)\n",
    "\n",
    "con = sqlite3.connect(\"tutorial.db\")\n",
    "cursor = con.cursor()\n",
    "\n",
    "create_table_query = \"\"\"\n",
    "CREATE TABLE DiabetesData (\n",
    "    PatientID INTEGER PRIMARY KEY,\n",
    "    Diabetes_binary INTEGER,  -- 0 = no diabetes, 1 = prediabetes, 2 = diabetes\n",
    "    HighBP INTEGER,           -- 0 = no high BP, 1 = high BP\n",
    "    HighChol INTEGER,         -- 0 = no high cholesterol, 1 = high cholesterol\n",
    "    CholCheck INTEGER,        -- 0 = no cholesterol check in 5 years, 1 = yes cholesterol check in 5 years\n",
    "    BMI REAL,                 -- Body Mass Index\n",
    "    Smoker INTEGER,           -- Have you smoked at least 100 cigarettes in your entire life? 0 = no, 1 = yes\n",
    "    Stroke INTEGER,           -- (Ever told) you had a stroke. 0 = no, 1 = yes\n",
    "    HeartDiseaseorAttack INTEGER, -- Coronary heart disease (CHD) or myocardial infarction (MI) 0 = no, 1 = yes\n",
    "    PhysActivity INTEGER,     -- Physical activity in past 30 days - not including job 0 = no, 1 = yes\n",
    "    Fruits INTEGER,           -- Consume Fruit 1 or more times per day 0 = no, 1 = yes\n",
    "    Veggies INTEGER,          -- Consume Vegetables 1 or more times per day 0 = no, 1 = yes\n",
    "    HvyAlcoholConsump INTEGER, -- Adult men >=14 drinks per week and adult women >=7 drinks per week 0 = no, 1 = yes\n",
    "    AnyHealthcare INTEGER,    -- Have any kind of health care coverage, including health insurance, prepaid plans such as HMO, etc. 0 = no, 1 = yes\n",
    "    NoDocbcCost INTEGER,      -- Was there a time in the past 12 months when you needed to see a doctor but could not because of cost? 0 = no, 1 = yes\n",
    "    GenHlth INTEGER,          -- General health rating (1-5) 1 = excellent, 2 = very good, 3 = good, 4 = fair, 5 = poor\n",
    "    MentHlth INTEGER,         -- Days of poor mental health (1-30 days)\n",
    "    PhysHlth INTEGER,         -- Physical illness or injury days in past 30 days (1-30 days)\n",
    "    DiffWalk INTEGER,         -- Do you have serious difficulty walking or climbing stairs? 0 = no, 1 = yes\n",
    "    Sex INTEGER,              -- 0 = female, 1 = male\n",
    "    Age INTEGER,              -- 13-level age category (_AGEG5YR see codebook) 1 = 18-24, 9 = 60-64, 13 = 80 or older\n",
    "    Education INTEGER,        -- Education level (EDUCA see codebook) scale 1-6, 1 = Never attended school or only kindergarten, etc.\n",
    "    Income INTEGER           -- Income scale (INCOME2 see codebook) scale 1-8, 1 = less than $10,000, 5 = less than $35,000, 8 = $75,000 or more\n",
    ");\n",
    "\"\"\"\n",
    "cursor.execute(\"DROP TABLE IF EXISTS DiabetesData;\")\n",
    "cursor.execute(create_table_query)\n",
    "con.commit()\n",
    "\n",
    "\n",
    "def add(data_entry, cursor):\n",
    "\n",
    "    Diabetes_binary, HighBP, HighChol, CholCheck, BMI, Smoker, Stroke, HeartDiseaseorAttack, PhysActivity, Fruits, Veggies, HvyAlcoholConsump, AnyHealthcare, NoDocbcCost, GenHlth, MentHlth, PhysHlth, DiffWalk, Sex, Age, Education, Income = data_entry\n",
    "\n",
    "\n",
    "    cursor.execute(\n",
    "        \"INSERT INTO DiabetesData (Diabetes_binary, HighBP, HighChol, CholCheck, BMI, Smoker, Stroke, HeartDiseaseorAttack, PhysActivity, Fruits, Veggies, HvyAlcoholConsump, AnyHealthcare, NoDocbcCost, GenHlth, MentHlth, PhysHlth, DiffWalk, Sex, Age, Education, Income) VALUES (?, ?, ?, ?, ?, ?, ?, ?, ?, ?, ?, ?, ?, ?, ?, ?, ?, ?, ?, ?, ?, ?)\",\n",
    "        data_entry\n",
    "    )\n",
    "\n",
    "e\n",
    "for index, row in data.iterrows():\n",
    "    add(tuple(row), cursor)\n",
    "\n",
    "con.commit()\n"
   ]
  },
  {
   "cell_type": "code",
   "execution_count": 12,
   "id": "5e883011",
   "metadata": {},
   "outputs": [
    {
     "name": "stdout",
     "output_type": "stream",
     "text": [
      "Hello world\n",
      "[(1, 0, 1, 0, 1, 26.0, 0, 0, 0, 1, 0, 1, 0, 1, 0, 3, 5, 30, 0, 1, 4, 6, 8), (2, 0, 1, 1, 1, 26.0, 1, 1, 0, 0, 1, 0, 0, 1, 0, 3, 0, 0, 0, 1, 12, 6, 8), (3, 0, 0, 0, 1, 26.0, 0, 0, 0, 1, 1, 1, 0, 1, 0, 1, 0, 10, 0, 1, 13, 6, 8)]\n",
      "(1, 0, 1, 0, 1, 26.0, 0, 0, 0, 1, 0, 1, 0, 1, 0, 3, 5, 30, 0, 1, 4, 6, 8)\n",
      "(2, 0, 1, 1, 1, 26.0, 1, 1, 0, 0, 1, 0, 0, 1, 0, 3, 0, 0, 0, 1, 12, 6, 8)\n",
      "(3, 0, 0, 0, 1, 26.0, 0, 0, 0, 1, 1, 1, 0, 1, 0, 1, 0, 10, 0, 1, 13, 6, 8)\n"
     ]
    }
   ],
   "source": [
    "# Example query: Retrieve all data for individuals with diabetes (Diabetes_binary = 2)\n",
    "query = \"SELECT * FROM DiabetesData WHERE Diabetes_binary = 0;\"\n",
    "result = cursor.execute(query).fetchall()\n",
    "print(\"Hello world\")\n",
    "print(result)\n",
    "\n",
    "# Display the query result\n",
    "\n",
    "for row in result:\n",
    "    print(row)"
   ]
  },
  {
   "cell_type": "markdown",
   "id": "ed359678",
   "metadata": {},
   "source": []
  },
  {
   "cell_type": "markdown",
   "id": "bc882b7d",
   "metadata": {},
   "source": []
  },
  {
   "cell_type": "code",
   "execution_count": null,
   "id": "a5b3fa4e-9ce2-47e5-af31-fa915525950d",
   "metadata": {},
   "outputs": [
    {
     "name": "stdout",
     "output_type": "stream",
     "text": [
      "ipywidgets==8.1.5\n",
      "numpy==1.26.4\n",
      "pandas==2.2.2\n",
      "xarray==2023.6.0\n"
     ]
    }
   ],
   "source": [
    "import pkg_resources\n",
    "import types\n",
    "def get_imports():\n",
    "    for name, val in globals().items():\n",
    "        if isinstance(val, types.ModuleType):\n",
    "            # Split ensures you get root package,\n",
    "            # not just imported function\n",
    "            name = val.__name__.split(\".\")[0]\n",
    "\n",
    "        elif isinstance(val, type):\n",
    "            name = val.__module__.split(\".\")[0]\n",
    "\n",
    "        # Some packages are weird and have different\n",
    "        # imported names vs. system/pip names. Unfortunately,\n",
    "        # there is no systematic way to get pip names from\n",
    "        # a package's imported name. You'll have to add\n",
    "        # exceptions to this list manually!\n",
    "        poorly_named_packages = {\n",
    "            \"PIL\": \"Pillow\",\n",
    "            \"sklearn\": \"scikit-learn\"\n",
    "        }\n",
    "        if name in poorly_named_packages.keys():\n",
    "            name = poorly_named_packages[name]\n",
    "\n",
    "        yield name\n",
    "imports = list(set(get_imports()))\n",
    "\n",
    "# The only way I found to get the version of the root package\n",
    "# from only the name of the package is to cross-check the names\n",
    "# of installed packages vs. imported packages\n",
    "requirements = []\n",
    "for m in pkg_resources.working_set:\n",
    "    if m.project_name in imports and m.project_name!=\"pip\":\n",
    "        requirements.append((m.project_name, m.version))\n",
    "\n",
    "for r in requirements:\n",
    "    print(\"{}=={}\".format(*r))\n"
   ]
  },
  {
   "cell_type": "code",
   "execution_count": null,
   "id": "c3d46e60-4d1f-4d42-921d-8b70618e776c",
   "metadata": {},
   "outputs": [],
   "source": []
  },
  {
   "cell_type": "markdown",
   "id": "385a1a27",
   "metadata": {},
   "source": [
    "---"
   ]
  },
  {
   "cell_type": "code",
   "execution_count": 3,
   "id": "00cdea6b-1634-468d-bc68-3c6cefe8819c",
   "metadata": {},
   "outputs": [
    {
     "data": {
      "application/vnd.jupyter.widget-view+json": {
       "model_id": "005403cf244d49d48a429903f2263190",
       "version_major": 2,
       "version_minor": 0
      },
      "text/plain": [
       "Checkbox(value=False, description='Check me')"
      ]
     },
     "execution_count": 3,
     "metadata": {},
     "output_type": "execute_result"
    }
   ],
   "source": [
    "import ipywidgets as widgets\n",
    "\n",
    "widgets.Checkbox(\n",
    "    value=False,\n",
    "    description='Check me',\n",
    "    disabled=False\n",
    ")\n"
   ]
  },
  {
   "cell_type": "code",
   "execution_count": 24,
   "id": "18b19543-2085-4e2b-94ef-2fc164a4dcae",
   "metadata": {},
   "outputs": [
    {
     "ename": "SyntaxError",
     "evalue": "invalid syntax (2303350415.py, line 1)",
     "output_type": "error",
     "traceback": [
      "\u001b[0;36m  Cell \u001b[0;32mIn[24], line 1\u001b[0;36m\u001b[0m\n\u001b[0;31m    height=\u001b[0m\n\u001b[0m           ^\u001b[0m\n\u001b[0;31mSyntaxError\u001b[0m\u001b[0;31m:\u001b[0m invalid syntax\n"
     ]
    }
   ],
   "source": [
    "\n",
    "\n",
    "height=\n",
    "weight=\n",
    "education=\n",
    "\n",
    "\n",
    "SAVE=False\n",
    "\n",
    "operation(weight, height, education, SAVE)\n"
   ]
  },
  {
   "cell_type": "code",
   "execution_count": null,
   "id": "aacdd039-2052-4564-9f68-bd0b48995510",
   "metadata": {},
   "outputs": [],
   "source": []
  },
  {
   "cell_type": "code",
   "execution_count": null,
   "id": "578807d5-1236-4a1d-836d-5a542bccaa7b",
   "metadata": {},
   "outputs": [],
   "source": []
  }
 ],
 "metadata": {
  "kernelspec": {
   "display_name": "Python 3",
   "language": "python",
   "name": "python3"
  },
  "language_info": {
   "codemirror_mode": {
    "name": "ipython",
    "version": 3
   },
   "file_extension": ".py",
   "mimetype": "text/x-python",
   "name": "python",
   "nbconvert_exporter": "python",
   "pygments_lexer": "ipython3",
   "version": "3.9.6"
  }
 },
 "nbformat": 4,
 "nbformat_minor": 5
}
